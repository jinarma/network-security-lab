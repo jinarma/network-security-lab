{
 "cells": [
  {
   "cell_type": "code",
   "execution_count": 2,
   "metadata": {},
   "outputs": [],
   "source": [
    "import pandas as pd\n",
    "from matplotlib import pyplot as plt\n",
    "import numpy as np\n",
    "\n",
    "\n",
    "%matplotlib inline"
   ]
  },
  {
   "cell_type": "code",
   "execution_count": 18,
   "metadata": {},
   "outputs": [],
   "source": [
    "password_list = pd.read_csv('common_passwords.csv')"
   ]
  },
  {
   "cell_type": "code",
   "execution_count": 14,
   "metadata": {},
   "outputs": [
    {
     "name": "stdout",
     "output_type": "stream",
     "text": [
      "       password  length  num_chars  num_digits  num_upper  num_lower  \\\n",
      "0        123456       6          0           6          0          0   \n",
      "1      password       8          8           0          0          8   \n",
      "2      12345678       8          0           8          0          0   \n",
      "3        qwerty       6          6           0          0          6   \n",
      "4     123456789       9          0           9          0          0   \n",
      "...         ...     ...        ...         ...        ...        ...   \n",
      "9995       caca       4          4           0          0          4   \n",
      "9996     c2h5oh       6          4           2          0          4   \n",
      "9997   bubbles1       8          7           1          0          7   \n",
      "9998      brook       5          5           0          0          5   \n",
      "9999      brady       5          5           0          0          5   \n",
      "\n",
      "      num_special  num_vowels  num_syllables  \n",
      "0               0           0              1  \n",
      "1               0           2              2  \n",
      "2               0           0              1  \n",
      "3               0           1              3  \n",
      "4               0           0              1  \n",
      "...           ...         ...            ...  \n",
      "9995            0           2              2  \n",
      "9996            0           1              1  \n",
      "9997            0           2              2  \n",
      "9998            0           2              1  \n",
      "9999            0           1              1  \n",
      "\n",
      "[10000 rows x 9 columns]\n",
      "(10000, 9)\n",
      "<class 'pandas.core.frame.DataFrame'>\n"
     ]
    }
   ],
   "source": [
    "print(password_list)\n",
    "print(password_list.shape)\n",
    "print(type(password_list))"
   ]
  },
  {
   "cell_type": "code",
   "execution_count": 22,
   "metadata": {},
   "outputs": [
    {
     "name": "stdout",
     "output_type": "stream",
     "text": [
      "<class 'pandas.core.frame.DataFrame'>\n",
      "0          123456\n",
      "1        password\n",
      "2        12345678\n",
      "3          qwerty\n",
      "4       123456789\n",
      "          ...    \n",
      "9995         caca\n",
      "9996       c2h5oh\n",
      "9997     bubbles1\n",
      "9998        brook\n",
      "9999        brady\n",
      "Name: password, Length: 10000, dtype: object\n"
     ]
    }
   ],
   "source": [
    "print(type(password_list))\n",
    "print(password_list['password'])"
   ]
  },
  {
   "cell_type": "code",
   "execution_count": 6,
   "metadata": {},
   "outputs": [
    {
     "data": {
      "image/png": "[encoded data removed]",
      "text/plain": [
       "<Figure size 432x288 with 1 Axes>"
      ]
     },
     "metadata": {
      "needs_background": "light"
     },
     "output_type": "display_data"
    }
   ],
   "source": [
    "plt.bar([6, 2, 3, 4, 5], [3, 2, 10, 4, 5])\n",
    "plt.show()\n"
   ]
  },
  {
   "cell_type": "code",
   "execution_count": 7,
   "metadata": {},
   "outputs": [
    {
     "name": "stdout",
     "output_type": "stream",
     "text": [
      "[1, 2, 3, 4, 5, 6, 7]\n"
     ]
    }
   ],
   "source": [
    "set_1 = {7, 1, 2, 3, 4, 5, 6}\n",
    "print(list(set_1))"
   ]
  },
  {
   "cell_type": "code",
   "execution_count": 8,
   "metadata": {},
   "outputs": [],
   "source": [
    "unique_password_length_list = dict()\n",
    "for el in list(set(password_list['length'])):\n",
    "\tunique_password_length_list[el] = 0\n",
    "\n",
    "# print(unique_password_length_list)"
   ]
  },
  {
   "cell_type": "code",
   "execution_count": 9,
   "metadata": {},
   "outputs": [
    {
     "name": "stdout",
     "output_type": "stream",
     "text": [
      "{3: 3, 4: 810, 5: 903, 6: 3176, 7: 1771, 8: 2971, 9: 219, 10: 94, 11: 28, 12: 21, 13: 2, 15: 1, 16: 1}\n"
     ]
    }
   ],
   "source": [
    "# plt.bar(unique_passowrd_length_list, np.count_nonzero(unique_passowrd_length_list in password_list['length']))\n",
    "# print(np.count_nonzero(password_list['length'] == 5))\n",
    "\n",
    "for num in unique_password_length_list:\n",
    "\tunique_password_length_list[num] = np.count_nonzero(password_list['length'] == num)\n",
    "\n",
    "print(unique_password_length_list)"
   ]
  },
  {
   "cell_type": "code",
   "execution_count": 10,
   "metadata": {},
   "outputs": [
    {
     "data": {
      "text/plain": [
       "<BarContainer object of 13 artists>"
      ]
     },
     "execution_count": 10,
     "metadata": {},
     "output_type": "execute_result"
    },
    {
     "data": {
      "image/png": "[encoded data removed]",
      "text/plain": [
       "<Figure size 432x288 with 1 Axes>"
      ]
     },
     "metadata": {
      "needs_background": "light"
     },
     "output_type": "display_data"
    }
   ],
   "source": [
    "plt.bar(unique_password_length_list.keys(), unique_password_length_list.values())"
   ]
  },
  {
   "cell_type": "code",
   "execution_count": 11,
   "metadata": {},
   "outputs": [
    {
     "data": {
      "text/plain": [
       "<matplotlib.collections.PathCollection at 0x22845a60430>"
      ]
     },
     "execution_count": 11,
     "metadata": {},
     "output_type": "execute_result"
    },
    {
     "data": {
      "image/png": "[encoded data removed]",
      "text/plain": [
       "<Figure size 432x288 with 1 Axes>"
      ]
     },
     "metadata": {
      "needs_background": "light"
     },
     "output_type": "display_data"
    }
   ],
   "source": [
    "plt.scatter(unique_password_length_list.keys(), unique_password_length_list.values(), c='red')"
   ]
  },
  {
   "cell_type": "code",
   "execution_count": 12,
   "metadata": {},
   "outputs": [
    {
     "name": "stdout",
     "output_type": "stream",
     "text": [
      "{1: 4926, 2: 4174, 3: 808, 4: 76, 5: 8, 6: 4, 0: 4}\n"
     ]
    }
   ],
   "source": [
    "unique_num_syllables = {}\n",
    "for ele in password_list['num_syllables']:\n",
    "\tif ele not in unique_num_syllables:\n",
    "\t\tunique_num_syllables[ele] = 1\n",
    "\telse:\n",
    "\t\tunique_num_syllables[ele] += 1\n",
    "\n",
    "print(unique_num_syllables)"
   ]
  }
 ],
 "metadata": {
  "kernelspec": {
   "display_name": "Python 3.9.2 64-bit",
   "language": "python",
   "name": "python3"
  },
  "language_info": {
   "codemirror_mode": {
    "name": "ipython",
    "version": 3
   },
   "file_extension": ".py",
   "mimetype": "text/x-python",
   "name": "python",
   "nbconvert_exporter": "python",
   "pygments_lexer": "ipython3",
   "version": "3.9.2"
  },
  "orig_nbformat": 4,
  "vscode": {
   "interpreter": {
    "hash": "7e73b09267218e3a1d59db5a5bf9ae904bb8a1c001c478bb252b86afd65a654f"
   }
  }
 },
 "nbformat": 4,
 "nbformat_minor": 2
}
